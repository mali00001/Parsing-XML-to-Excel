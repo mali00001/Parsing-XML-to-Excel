{
 "cells": [
  {
   "cell_type": "code",
   "execution_count": 5,
   "metadata": {},
   "outputs": [],
   "source": [
    "import xml.etree.ElementTree as ET\n",
    "import xlsxwriter\n",
    "\n",
    "# parse xml file\n",
    "tree = ET.parse(\"C:\\\\Users\\\\muham\\\\Downloads\\\\compiler.xml\")\n",
    "root = tree.getroot()\n",
    "\n",
    "# create excel file and worksheet\n",
    "workbook = xlsxwriter.Workbook('books.xlsx')\n",
    "worksheet = workbook.add_worksheet()\n",
    "\n",
    "# create table headers\n",
    "worksheet.write('A1', 'Book_id')\n",
    "worksheet.write('B1', 'Author_Name')\n",
    "worksheet.write('C1', 'Title')\n",
    "worksheet.write('D1', 'Genre')\n",
    "worksheet.write('E1', 'Price')\n",
    "worksheet.write('F1', 'Publish_date')\n",
    "worksheet.write('G1', 'Description')\n",
    "\n",
    "# iterate through xml elements and extract data\n",
    "row = 1\n",
    "for book in root.findall('book'):\n",
    "    worksheet.write(row, 0, book.get('id'))\n",
    "    worksheet.write(row, 1, book.find('author').text)\n",
    "    worksheet.write(row, 2, book.find('title').text)\n",
    "    worksheet.write(row, 3, book.find('genre').text)\n",
    "    worksheet.write(row, 4, book.find('price').text)\n",
    "    worksheet.write(row, 5, book.find('publish_date').text)\n",
    "    worksheet.write(row, 6, book.find('description').text)\n",
    "    row += 1\n",
    "\n",
    "# save excel file\n",
    "workbook.close()\n"
   ]
  },
  {
   "cell_type": "code",
   "execution_count": 3,
   "metadata": {},
   "outputs": [
    {
     "name": "stdout",
     "output_type": "stream",
     "text": [
      "Collecting xlsxwriterNote: you may need to restart the kernel to use updated packages.\n"
     ]
    },
    {
     "name": "stderr",
     "output_type": "stream",
     "text": [
      "\n",
      "[notice] A new release of pip available: 22.3 -> 22.3.1\n",
      "[notice] To update, run: python.exe -m pip install --upgrade pip\n"
     ]
    },
    {
     "name": "stdout",
     "output_type": "stream",
     "text": [
      "\n",
      "  Downloading XlsxWriter-3.0.7-py3-none-any.whl (152 kB)\n",
      "     ------------------------------------ 152.8/152.8 kB 650.8 kB/s eta 0:00:00\n",
      "Installing collected packages: xlsxwriter\n",
      "Successfully installed xlsxwriter-3.0.7\n"
     ]
    }
   ],
   "source": [
    "pip install xlsxwriter"
   ]
  }
 ],
 "metadata": {
  "kernelspec": {
   "display_name": "Python 3",
   "language": "python",
   "name": "python3"
  },
  "language_info": {
   "codemirror_mode": {
    "name": "ipython",
    "version": 3
   },
   "file_extension": ".py",
   "mimetype": "text/x-python",
   "name": "python",
   "nbconvert_exporter": "python",
   "pygments_lexer": "ipython3",
   "version": "3.11.0"
  },
  "orig_nbformat": 4,
  "vscode": {
   "interpreter": {
    "hash": "5f87a6cc69683745101f5cf8fc8fee81827f494883c23d1befe6caeda7eb7947"
   }
  }
 },
 "nbformat": 4,
 "nbformat_minor": 2
}
